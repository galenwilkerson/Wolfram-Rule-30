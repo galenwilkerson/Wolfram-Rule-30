{
 "cells": [
  {
   "cell_type": "markdown",
   "id": "52de21b2",
   "metadata": {},
   "source": [
    "# Wolfram's Rule 30\n",
    "\n",
    "\n",
    "## Explanation of Rule 30\n",
    "\n",
    "Wolfram's Rule 30 is a one-dimensional binary cellular automaton rule defined by Stephen Wolfram. The rule determines the state of a cell based on its current state and the state of its two immediate neighbors. The rule is named \"Rule 30\" because it corresponds to the number 30 in Wolfram's enumeration of the 256 possible rules for one-dimensional cellular automata with two states (0 and 1).\n",
    "\n",
    "The rule can be represented by the following truth table:\n",
    "\n",
    "$$\n",
    "\\begin{array}{ccc|c}\n",
    "x_{i-1} & x_i & x_{i+1} & f(x_{i-1}, x_i, x_{i+1}) \\\\\n",
    "\\hline\n",
    "0 & 0 & 0 & 0 \\\\\n",
    "0 & 0 & 1 & 1 \\\\\n",
    "0 & 1 & 0 & 1 \\\\\n",
    "0 & 1 & 1 & 1 \\\\\n",
    "1 & 0 & 0 & 1 \\\\\n",
    "1 & 0 & 1 & 0 \\\\\n",
    "1 & 1 & 0 & 0 \\\\\n",
    "1 & 1 & 1 & 0 \\\\\n",
    "\\end{array}\n",
    "$$\n",
    "\n",
    "The Boolean function that represents Rule 30 is given by:\n",
    "\n",
    "$$\n",
    "f(x_{i-1}, x_i, x_{i+1}) = x_{i-1} \\oplus (x_i \\lor x_{i+1})\n",
    "$$\n",
    "\n",
    "where:\n",
    "- $ \\oplus $ denotes the XOR (exclusive OR) operation,\n",
    "- $ \\lor $ denotes the OR operation.\n",
    "\n",
    "This function means that the new state of the cell is obtained by XORing the left neighbor with the OR of the center and right neighbor."
   ]
  },
  {
   "cell_type": "code",
   "execution_count": 1,
   "id": "1a1f028f",
   "metadata": {},
   "outputs": [
    {
     "data": {
      "image/png": "[encoded data removed]",
      "text/plain": [
       "<Figure size 640x480 with 1 Axes>"
      ]
     },
     "metadata": {},
     "output_type": "display_data"
    }
   ],
   "source": [
    "import numpy as np\n",
    "import matplotlib.pyplot as plt\n",
    "\n",
    "def rule_30(initial_state, steps):\n",
    "    '''Simulates Rule 30 cellular automaton.\n",
    "    \n",
    "    Parameters:\n",
    "    initial_state (np.array): Initial state of the cellular automaton (binary array).\n",
    "    steps (int): Number of steps to simulate.\n",
    "    \n",
    "    Returns:\n",
    "    np.array: Array representing the evolution of the cellular automaton.\n",
    "    '''\n",
    "    n = len(initial_state)\n",
    "    evolution = np.zeros((steps, n), dtype=int)\n",
    "    evolution[0] = initial_state\n",
    "    \n",
    "    for t in range(1, steps):\n",
    "        for i in range(n):\n",
    "            left = evolution[t-1][i-1] if i > 0 else 0\n",
    "            center = evolution[t-1][i]\n",
    "            right = evolution[t-1][i+1] if i < n-1 else 0\n",
    "            evolution[t][i] = left ^ (center | right)\n",
    "    \n",
    "    return evolution\n",
    "\n",
    "def plot_rule_30(evolution):\n",
    "    '''Plots the evolution of Rule 30 cellular automaton.\n",
    "    \n",
    "    Parameters:\n",
    "    evolution (np.array): Array representing the evolution of the cellular automaton.\n",
    "    '''\n",
    "    plt.imshow(evolution, cmap='binary', interpolation='nearest')\n",
    "    plt.axis('off')\n",
    "    plt.show()\n",
    "\n",
    "# Example usage\n",
    "initial_state = np.zeros(101, dtype=int)\n",
    "initial_state[50] = 1\n",
    "steps = 100\n",
    "\n",
    "evolution = rule_30(initial_state, steps)\n",
    "plot_rule_30(evolution)\n"
   ]
  },
  {
   "cell_type": "code",
   "execution_count": null,
   "id": "90f2acaa",
   "metadata": {},
   "outputs": [],
   "source": []
  }
 ],
 "metadata": {
  "kernelspec": {
   "display_name": "Python 3 (ipykernel)",
   "language": "python",
   "name": "python3"
  },
  "language_info": {
   "codemirror_mode": {
    "name": "ipython",
    "version": 3
   },
   "file_extension": ".py",
   "mimetype": "text/x-python",
   "name": "python",
   "nbconvert_exporter": "python",
   "pygments_lexer": "ipython3",
   "version": "3.11.5"
  }
 },
 "nbformat": 4,
 "nbformat_minor": 5
}
